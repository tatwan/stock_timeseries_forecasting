{
 "cells": [
  {
   "cell_type": "code",
   "execution_count": 1,
   "metadata": {
    "ExecuteTime": {
     "end_time": "2017-12-30T00:26:21.111349Z",
     "start_time": "2017-12-30T00:26:20.724166Z"
    }
   },
   "outputs": [],
   "source": [
    "import numpy as np\n",
    "import pandas as pd"
   ]
  },
  {
   "cell_type": "markdown",
   "metadata": {
    "heading_collapsed": true
   },
   "source": [
    "## Data query"
   ]
  },
  {
   "cell_type": "markdown",
   "metadata": {
    "hidden": true
   },
   "source": [
    "Get S&P 500 company list from wikipedia"
   ]
  },
  {
   "cell_type": "code",
   "execution_count": 2,
   "metadata": {
    "ExecuteTime": {
     "end_time": "2017-12-29T10:41:25.802540Z",
     "start_time": "2017-12-29T10:41:21.883419Z"
    },
    "hidden": true
   },
   "outputs": [],
   "source": [
    "tickers = pd.read_html('https://en.wikipedia.org/wiki/List_of_S%26P_500_companies',\n",
    "             attrs={'class':'wikitable sortable'},header=0)[0]['Ticker symbol']"
   ]
  },
  {
   "cell_type": "markdown",
   "metadata": {
    "hidden": true
   },
   "source": [
    "Modify those symbols with wrong names"
   ]
  },
  {
   "cell_type": "code",
   "execution_count": 3,
   "metadata": {
    "ExecuteTime": {
     "end_time": "2017-12-29T10:41:25.869898Z",
     "start_time": "2017-12-29T10:41:25.818760Z"
    },
    "hidden": true
   },
   "outputs": [
    {
     "name": "stderr",
     "output_type": "stream",
     "text": [
      "C:\\Anaconda3\\lib\\site-packages\\pandas\\core\\indexing.py:194: SettingWithCopyWarning: \n",
      "A value is trying to be set on a copy of a slice from a DataFrame\n",
      "\n",
      "See the caveats in the documentation: http://pandas.pydata.org/pandas-docs/stable/indexing.html#indexing-view-versus-copy\n",
      "  self._setitem_with_indexer(indexer, value)\n"
     ]
    }
   ],
   "source": [
    "tickers.loc[tickers=='BRK.B'] = \"BRK-B\"\n",
    "tickers.loc[tickers=='BF.B'] = \"BF-B\""
   ]
  },
  {
   "cell_type": "markdown",
   "metadata": {
    "hidden": true
   },
   "source": [
    "Set start and end date"
   ]
  },
  {
   "cell_type": "code",
   "execution_count": 4,
   "metadata": {
    "ExecuteTime": {
     "end_time": "2017-12-29T10:41:25.891988Z",
     "start_time": "2017-12-29T10:41:25.888949Z"
    },
    "hidden": true
   },
   "outputs": [],
   "source": [
    "import datetime\n",
    "start = datetime.datetime(2001, 7, 31)\n",
    "end = datetime.date.today()"
   ]
  },
  {
   "cell_type": "markdown",
   "metadata": {
    "hidden": true
   },
   "source": [
    "Query function for price and volume"
   ]
  },
  {
   "cell_type": "code",
   "execution_count": 5,
   "metadata": {
    "ExecuteTime": {
     "end_time": "2017-12-28T07:18:00.080083Z",
     "start_time": "2017-12-28T07:18:00.074052Z"
    },
    "hidden": true
   },
   "outputs": [],
   "source": [
    "def query(ticker):\n",
    "    try:\n",
    "        url = 'https://www.alphavantage.co/query?function=TIME_SERIES_DAILY&symbol=' + ticker +\\\n",
    "        '&outputsize=full&apikey=4TNGOSY32DVWCA4B&datatype=csv'\n",
    "        a = pd.read_csv(url)\n",
    "        a.timestamp = pd.to_datetime(a.timestamp)\n",
    "        a = a.query('timestamp in @pd.date_range(@start,@end)').set_index('timestamp')\n",
    "        a.columns += '_' + ticker\n",
    "        return a\n",
    "    except:\n",
    "        return None"
   ]
  },
  {
   "cell_type": "markdown",
   "metadata": {
    "hidden": true
   },
   "source": [
    "Multi-threading query of the data set with multiple attempts until all data are downloaded"
   ]
  },
  {
   "cell_type": "code",
   "execution_count": 6,
   "metadata": {
    "ExecuteTime": {
     "end_time": "2017-12-28T07:26:21.551967Z",
     "start_time": "2017-12-28T07:18:03.898845Z"
    },
    "hidden": true
   },
   "outputs": [],
   "source": [
    "import concurrent.futures\n",
    "FLAG = True\n",
    "remaining_tickers = tickers.copy()\n",
    "data = None\n",
    "\n",
    "while FLAG:\n",
    "    with concurrent.futures.ThreadPoolExecutor() as Executor:\n",
    "        result = Executor.map(query,remaining_tickers)\n",
    "    try:\n",
    "        temp = pd.concat(result,axis=1)\n",
    "    except:\n",
    "        continue\n",
    "    data = pd.concat([temp,data],axis=1)\n",
    "    remaining_tickers = set(tickers)-set([i[(i.find('_')+1):] for i in list(data.columns)])\n",
    "    if len(remaining_tickers)==0:\n",
    "        FLAG = False"
   ]
  },
  {
   "cell_type": "code",
   "execution_count": 8,
   "metadata": {
    "ExecuteTime": {
     "end_time": "2017-12-28T07:27:21.511632Z",
     "start_time": "2017-12-28T07:27:09.709122Z"
    },
    "hidden": true
   },
   "outputs": [],
   "source": [
    "data.to_csv('price.csv')"
   ]
  },
  {
   "cell_type": "markdown",
   "metadata": {
    "hidden": true
   },
   "source": [
    "Query function for adjusted close price"
   ]
  },
  {
   "cell_type": "code",
   "execution_count": 9,
   "metadata": {
    "ExecuteTime": {
     "end_time": "2017-12-28T07:27:30.757520Z",
     "start_time": "2017-12-28T07:27:30.747494Z"
    },
    "hidden": true
   },
   "outputs": [],
   "source": [
    "def query_adjusted(ticker):\n",
    "    try:\n",
    "        url = 'https://www.alphavantage.co/query?function=TIME_SERIES_DAILY_ADJUSTED&symbol=' + ticker +\\\n",
    "            '&outputsize=full&apikey=4TNGOSY32DVWCA4B&datatype=csv'\n",
    "        a = pd.read_csv(url)\n",
    "        a.timestamp = pd.to_datetime(a.timestamp)\n",
    "        a = a.query('timestamp in @pd.date_range(@start,@end)').set_index('timestamp')\n",
    "        a = a[['adjusted_close']]\n",
    "        a.columns += '_' + ticker\n",
    "        return a\n",
    "    except:\n",
    "        return None    "
   ]
  },
  {
   "cell_type": "markdown",
   "metadata": {
    "hidden": true
   },
   "source": [
    "Multi-threading query of adjusted close price with multiple attempts until all data are downloaded"
   ]
  },
  {
   "cell_type": "code",
   "execution_count": 10,
   "metadata": {
    "ExecuteTime": {
     "end_time": "2017-12-28T07:37:12.028794Z",
     "start_time": "2017-12-28T07:27:34.434996Z"
    },
    "code_folding": [],
    "hidden": true
   },
   "outputs": [],
   "source": [
    "FLAG = True\n",
    "remaining_tickers = tickers.copy()\n",
    "close = None\n",
    "\n",
    "while FLAG:\n",
    "    with concurrent.futures.ThreadPoolExecutor() as Executor:\n",
    "        result = Executor.map(query_adjusted,remaining_tickers)\n",
    "    try:\n",
    "        temp = pd.concat(result,axis=1)\n",
    "    except:\n",
    "        continue\n",
    "    close = pd.concat([temp,close],axis=1)\n",
    "    remaining_tickers = set(tickers)-set([i[(i.find('close_')+6):] for i in list(close.columns)])\n",
    "    if len(remaining_tickers)==0:\n",
    "        FLAG = False"
   ]
  },
  {
   "cell_type": "markdown",
   "metadata": {
    "hidden": true
   },
   "source": [
    "Concatenate two data sets"
   ]
  },
  {
   "cell_type": "code",
   "execution_count": 13,
   "metadata": {
    "ExecuteTime": {
     "end_time": "2017-12-28T07:50:08.503954Z",
     "start_time": "2017-12-28T07:49:53.346198Z"
    },
    "hidden": true
   },
   "outputs": [],
   "source": [
    "data = pd.concat([data,close],join='inner',axis=1)"
   ]
  },
  {
   "cell_type": "code",
   "execution_count": 14,
   "metadata": {
    "ExecuteTime": {
     "end_time": "2017-12-28T07:50:28.010583Z",
     "start_time": "2017-12-28T07:50:13.084765Z"
    },
    "hidden": true
   },
   "outputs": [],
   "source": [
    "data.to_csv('data.csv')"
   ]
  },
  {
   "cell_type": "markdown",
   "metadata": {
    "heading_collapsed": true
   },
   "source": [
    "## Data Exploration"
   ]
  },
  {
   "cell_type": "code",
   "execution_count": 2,
   "metadata": {
    "ExecuteTime": {
     "end_time": "2017-12-30T00:26:25.211953Z",
     "start_time": "2017-12-30T00:26:22.273835Z"
    },
    "hidden": true
   },
   "outputs": [],
   "source": [
    "data = pd.read_csv('data.csv').set_index('timestamp').dropna(axis=1)"
   ]
  },
  {
   "cell_type": "code",
   "execution_count": 3,
   "metadata": {
    "ExecuteTime": {
     "end_time": "2017-12-30T00:26:25.448775Z",
     "start_time": "2017-12-30T00:26:25.415156Z"
    },
    "hidden": true,
    "scrolled": true
   },
   "outputs": [
    {
     "data": {
      "text/html": [
       "<div>\n",
       "<style scoped>\n",
       "    .dataframe tbody tr th:only-of-type {\n",
       "        vertical-align: middle;\n",
       "    }\n",
       "\n",
       "    .dataframe tbody tr th {\n",
       "        vertical-align: top;\n",
       "    }\n",
       "\n",
       "    .dataframe thead th {\n",
       "        text-align: right;\n",
       "    }\n",
       "</style>\n",
       "<table border=\"1\" class=\"dataframe\">\n",
       "  <thead>\n",
       "    <tr style=\"text-align: right;\">\n",
       "      <th></th>\n",
       "      <th>open_TROW</th>\n",
       "      <th>high_TROW</th>\n",
       "      <th>low_TROW</th>\n",
       "      <th>close_TROW</th>\n",
       "      <th>volume_TROW</th>\n",
       "      <th>open_AJG</th>\n",
       "      <th>high_AJG</th>\n",
       "      <th>low_AJG</th>\n",
       "      <th>close_AJG</th>\n",
       "      <th>volume_AJG</th>\n",
       "      <th>...</th>\n",
       "      <th>adjusted_close_ETFC</th>\n",
       "      <th>adjusted_close_EMN</th>\n",
       "      <th>adjusted_close_ETN</th>\n",
       "      <th>adjusted_close_EBAY</th>\n",
       "      <th>adjusted_close_ECL</th>\n",
       "      <th>adjusted_close_EIX</th>\n",
       "      <th>adjusted_close_EW</th>\n",
       "      <th>adjusted_close_EA</th>\n",
       "      <th>adjusted_close_EMR</th>\n",
       "      <th>adjusted_close_ETR</th>\n",
       "    </tr>\n",
       "    <tr>\n",
       "      <th>timestamp</th>\n",
       "      <th></th>\n",
       "      <th></th>\n",
       "      <th></th>\n",
       "      <th></th>\n",
       "      <th></th>\n",
       "      <th></th>\n",
       "      <th></th>\n",
       "      <th></th>\n",
       "      <th></th>\n",
       "      <th></th>\n",
       "      <th></th>\n",
       "      <th></th>\n",
       "      <th></th>\n",
       "      <th></th>\n",
       "      <th></th>\n",
       "      <th></th>\n",
       "      <th></th>\n",
       "      <th></th>\n",
       "      <th></th>\n",
       "      <th></th>\n",
       "      <th></th>\n",
       "    </tr>\n",
       "  </thead>\n",
       "  <tbody>\n",
       "    <tr>\n",
       "      <th>2001-07-31</th>\n",
       "      <td>37.89</td>\n",
       "      <td>38.57</td>\n",
       "      <td>37.70</td>\n",
       "      <td>37.96</td>\n",
       "      <td>507900</td>\n",
       "      <td>27.99</td>\n",
       "      <td>28.06</td>\n",
       "      <td>27.41</td>\n",
       "      <td>27.50</td>\n",
       "      <td>149200</td>\n",
       "      <td>...</td>\n",
       "      <td>648.0</td>\n",
       "      <td>13.1694</td>\n",
       "      <td>11.7128</td>\n",
       "      <td>6.6742</td>\n",
       "      <td>16.4344</td>\n",
       "      <td>9.3133</td>\n",
       "      <td>6.1950</td>\n",
       "      <td>28.460</td>\n",
       "      <td>17.7713</td>\n",
       "      <td>19.8365</td>\n",
       "    </tr>\n",
       "    <tr>\n",
       "      <th>2001-08-01</th>\n",
       "      <td>37.96</td>\n",
       "      <td>38.47</td>\n",
       "      <td>37.95</td>\n",
       "      <td>38.20</td>\n",
       "      <td>217200</td>\n",
       "      <td>27.50</td>\n",
       "      <td>27.50</td>\n",
       "      <td>26.75</td>\n",
       "      <td>26.99</td>\n",
       "      <td>367100</td>\n",
       "      <td>...</td>\n",
       "      <td>634.0</td>\n",
       "      <td>13.1394</td>\n",
       "      <td>11.6474</td>\n",
       "      <td>6.5729</td>\n",
       "      <td>16.2990</td>\n",
       "      <td>9.3531</td>\n",
       "      <td>6.2250</td>\n",
       "      <td>29.935</td>\n",
       "      <td>17.8085</td>\n",
       "      <td>20.1010</td>\n",
       "    </tr>\n",
       "    <tr>\n",
       "      <th>2001-08-02</th>\n",
       "      <td>38.53</td>\n",
       "      <td>38.65</td>\n",
       "      <td>38.02</td>\n",
       "      <td>38.53</td>\n",
       "      <td>269200</td>\n",
       "      <td>27.00</td>\n",
       "      <td>27.00</td>\n",
       "      <td>26.14</td>\n",
       "      <td>26.40</td>\n",
       "      <td>367900</td>\n",
       "      <td>...</td>\n",
       "      <td>651.0</td>\n",
       "      <td>13.2354</td>\n",
       "      <td>11.8706</td>\n",
       "      <td>6.4854</td>\n",
       "      <td>16.3688</td>\n",
       "      <td>9.4858</td>\n",
       "      <td>6.0225</td>\n",
       "      <td>29.850</td>\n",
       "      <td>17.7992</td>\n",
       "      <td>20.5241</td>\n",
       "    </tr>\n",
       "    <tr>\n",
       "      <th>2001-08-03</th>\n",
       "      <td>38.41</td>\n",
       "      <td>38.60</td>\n",
       "      <td>38.00</td>\n",
       "      <td>38.51</td>\n",
       "      <td>159200</td>\n",
       "      <td>26.50</td>\n",
       "      <td>26.60</td>\n",
       "      <td>25.37</td>\n",
       "      <td>26.25</td>\n",
       "      <td>722400</td>\n",
       "      <td>...</td>\n",
       "      <td>653.0</td>\n",
       "      <td>13.2925</td>\n",
       "      <td>12.0311</td>\n",
       "      <td>6.8588</td>\n",
       "      <td>16.3934</td>\n",
       "      <td>9.3067</td>\n",
       "      <td>5.9875</td>\n",
       "      <td>29.455</td>\n",
       "      <td>17.7558</td>\n",
       "      <td>20.5718</td>\n",
       "    </tr>\n",
       "    <tr>\n",
       "      <th>2001-08-06</th>\n",
       "      <td>38.61</td>\n",
       "      <td>38.69</td>\n",
       "      <td>37.86</td>\n",
       "      <td>38.13</td>\n",
       "      <td>354400</td>\n",
       "      <td>26.50</td>\n",
       "      <td>26.74</td>\n",
       "      <td>26.40</td>\n",
       "      <td>26.59</td>\n",
       "      <td>277300</td>\n",
       "      <td>...</td>\n",
       "      <td>638.0</td>\n",
       "      <td>13.1454</td>\n",
       "      <td>12.1450</td>\n",
       "      <td>6.7734</td>\n",
       "      <td>16.2949</td>\n",
       "      <td>9.1210</td>\n",
       "      <td>6.0700</td>\n",
       "      <td>29.410</td>\n",
       "      <td>17.4243</td>\n",
       "      <td>19.8365</td>\n",
       "    </tr>\n",
       "  </tbody>\n",
       "</table>\n",
       "<p>5 rows × 2466 columns</p>\n",
       "</div>"
      ],
      "text/plain": [
       "            open_TROW  high_TROW  low_TROW  close_TROW  volume_TROW  open_AJG  \\\n",
       "timestamp                                                                       \n",
       "2001-07-31      37.89      38.57     37.70       37.96       507900     27.99   \n",
       "2001-08-01      37.96      38.47     37.95       38.20       217200     27.50   \n",
       "2001-08-02      38.53      38.65     38.02       38.53       269200     27.00   \n",
       "2001-08-03      38.41      38.60     38.00       38.51       159200     26.50   \n",
       "2001-08-06      38.61      38.69     37.86       38.13       354400     26.50   \n",
       "\n",
       "            high_AJG  low_AJG  close_AJG  volume_AJG         ...          \\\n",
       "timestamp                                                    ...           \n",
       "2001-07-31     28.06    27.41      27.50      149200         ...           \n",
       "2001-08-01     27.50    26.75      26.99      367100         ...           \n",
       "2001-08-02     27.00    26.14      26.40      367900         ...           \n",
       "2001-08-03     26.60    25.37      26.25      722400         ...           \n",
       "2001-08-06     26.74    26.40      26.59      277300         ...           \n",
       "\n",
       "            adjusted_close_ETFC  adjusted_close_EMN  adjusted_close_ETN  \\\n",
       "timestamp                                                                 \n",
       "2001-07-31                648.0             13.1694             11.7128   \n",
       "2001-08-01                634.0             13.1394             11.6474   \n",
       "2001-08-02                651.0             13.2354             11.8706   \n",
       "2001-08-03                653.0             13.2925             12.0311   \n",
       "2001-08-06                638.0             13.1454             12.1450   \n",
       "\n",
       "            adjusted_close_EBAY  adjusted_close_ECL  adjusted_close_EIX  \\\n",
       "timestamp                                                                 \n",
       "2001-07-31               6.6742             16.4344              9.3133   \n",
       "2001-08-01               6.5729             16.2990              9.3531   \n",
       "2001-08-02               6.4854             16.3688              9.4858   \n",
       "2001-08-03               6.8588             16.3934              9.3067   \n",
       "2001-08-06               6.7734             16.2949              9.1210   \n",
       "\n",
       "            adjusted_close_EW  adjusted_close_EA  adjusted_close_EMR  \\\n",
       "timestamp                                                              \n",
       "2001-07-31             6.1950             28.460             17.7713   \n",
       "2001-08-01             6.2250             29.935             17.8085   \n",
       "2001-08-02             6.0225             29.850             17.7992   \n",
       "2001-08-03             5.9875             29.455             17.7558   \n",
       "2001-08-06             6.0700             29.410             17.4243   \n",
       "\n",
       "            adjusted_close_ETR  \n",
       "timestamp                       \n",
       "2001-07-31             19.8365  \n",
       "2001-08-01             20.1010  \n",
       "2001-08-02             20.5241  \n",
       "2001-08-03             20.5718  \n",
       "2001-08-06             19.8365  \n",
       "\n",
       "[5 rows x 2466 columns]"
      ]
     },
     "execution_count": 3,
     "metadata": {},
     "output_type": "execute_result"
    }
   ],
   "source": [
    "data.head()"
   ]
  },
  {
   "cell_type": "markdown",
   "metadata": {
    "hidden": true
   },
   "source": [
    "Visualize the time series of the target series"
   ]
  },
  {
   "cell_type": "code",
   "execution_count": 4,
   "metadata": {
    "ExecuteTime": {
     "end_time": "2017-12-30T00:26:25.903330Z",
     "start_time": "2017-12-30T00:26:25.579292Z"
    },
    "hidden": true,
    "scrolled": true
   },
   "outputs": [
    {
     "data": {
      "image/png": "[encoded data removed]",
      "text/plain": [
       "<matplotlib.figure.Figure at 0x1c2620e47b8>"
      ]
     },
     "metadata": {},
     "output_type": "display_data"
    }
   ],
   "source": [
    "import matplotlib.pyplot as plt\n",
    "%matplotlib inline\n",
    "data.adjusted_close_PVH.plot();"
   ]
  },
  {
   "cell_type": "markdown",
   "metadata": {
    "heading_collapsed": true
   },
   "source": [
    "## Data Preprocessing"
   ]
  },
  {
   "cell_type": "markdown",
   "metadata": {
    "hidden": true
   },
   "source": [
    "Calculate the Pearson correlation coefficient of target variable with all variables"
   ]
  },
  {
   "cell_type": "code",
   "execution_count": 5,
   "metadata": {
    "ExecuteTime": {
     "end_time": "2017-12-30T00:26:26.381187Z",
     "start_time": "2017-12-30T00:26:26.029675Z"
    },
    "hidden": true
   },
   "outputs": [],
   "source": [
    "r = [np.corrcoef(data.adjusted_close_PVH,data[column])[0,1] for column in data]"
   ]
  },
  {
   "cell_type": "markdown",
   "metadata": {
    "hidden": true
   },
   "source": [
    "Select the top 200 absolute correlation coefficient, shift ahead 1 step, and drop NAs"
   ]
  },
  {
   "cell_type": "code",
   "execution_count": 6,
   "metadata": {
    "ExecuteTime": {
     "end_time": "2017-12-30T00:26:26.535639Z",
     "start_time": "2017-12-30T00:26:26.518595Z"
    },
    "hidden": true
   },
   "outputs": [],
   "source": [
    "features = data[data.columns[np.argpartition(np.abs(r), -200)[-200:]]].shift(1).dropna()"
   ]
  },
  {
   "cell_type": "code",
   "execution_count": 7,
   "metadata": {
    "ExecuteTime": {
     "end_time": "2017-12-30T00:26:26.758043Z",
     "start_time": "2017-12-30T00:26:26.754547Z"
    },
    "hidden": true
   },
   "outputs": [],
   "source": [
    "target = data.adjusted_close_PVH[1:]"
   ]
  },
  {
   "cell_type": "markdown",
   "metadata": {
    "hidden": true
   },
   "source": [
    "Train-test split"
   ]
  },
  {
   "cell_type": "code",
   "execution_count": 8,
   "metadata": {
    "ExecuteTime": {
     "end_time": "2017-12-30T00:26:26.981892Z",
     "start_time": "2017-12-30T00:26:26.973879Z"
    },
    "hidden": true
   },
   "outputs": [],
   "source": [
    "features_train = features[features.index<='2015-12-31']\n",
    "features_test = features[features.index>'2015-12-31']"
   ]
  },
  {
   "cell_type": "code",
   "execution_count": 9,
   "metadata": {
    "ExecuteTime": {
     "end_time": "2017-12-30T00:26:27.356047Z",
     "start_time": "2017-12-30T00:26:27.350030Z"
    },
    "hidden": true
   },
   "outputs": [],
   "source": [
    "target_train = target[target.index<='2015-12-31']\n",
    "target_test = target[target.index>'2015-12-31']"
   ]
  },
  {
   "cell_type": "markdown",
   "metadata": {
    "hidden": true
   },
   "source": [
    "Min-Max scale on the features"
   ]
  },
  {
   "cell_type": "code",
   "execution_count": 10,
   "metadata": {
    "ExecuteTime": {
     "end_time": "2017-12-30T00:26:28.097538Z",
     "start_time": "2017-12-30T00:26:27.723853Z"
    },
    "hidden": true
   },
   "outputs": [
    {
     "data": {
      "text/html": [
       "<div>\n",
       "<style scoped>\n",
       "    .dataframe tbody tr th:only-of-type {\n",
       "        vertical-align: middle;\n",
       "    }\n",
       "\n",
       "    .dataframe tbody tr th {\n",
       "        vertical-align: top;\n",
       "    }\n",
       "\n",
       "    .dataframe thead th {\n",
       "        text-align: right;\n",
       "    }\n",
       "</style>\n",
       "<table border=\"1\" class=\"dataframe\">\n",
       "  <thead>\n",
       "    <tr style=\"text-align: right;\">\n",
       "      <th></th>\n",
       "      <th>adjusted_close_HP</th>\n",
       "      <th>adjusted_close_RL</th>\n",
       "      <th>high_ANSS</th>\n",
       "      <th>adjusted_close_ROK</th>\n",
       "      <th>adjusted_close_SJM</th>\n",
       "      <th>close_FRT</th>\n",
       "      <th>open_ANSS</th>\n",
       "      <th>adjusted_close_ROP</th>\n",
       "      <th>close_ANSS</th>\n",
       "      <th>open_FRT</th>\n",
       "      <th>...</th>\n",
       "      <th>adjusted_close_UTX</th>\n",
       "      <th>adjusted_close_EMN</th>\n",
       "      <th>adjusted_close_ETN</th>\n",
       "      <th>adjusted_close_TROW</th>\n",
       "      <th>adjusted_close_AME</th>\n",
       "      <th>adjusted_close_CVX</th>\n",
       "      <th>adjusted_close_PVH</th>\n",
       "      <th>adjusted_close_CERN</th>\n",
       "      <th>adjusted_close_EMR</th>\n",
       "      <th>adjusted_close_BWA</th>\n",
       "    </tr>\n",
       "    <tr>\n",
       "      <th>timestamp</th>\n",
       "      <th></th>\n",
       "      <th></th>\n",
       "      <th></th>\n",
       "      <th></th>\n",
       "      <th></th>\n",
       "      <th></th>\n",
       "      <th></th>\n",
       "      <th></th>\n",
       "      <th></th>\n",
       "      <th></th>\n",
       "      <th></th>\n",
       "      <th></th>\n",
       "      <th></th>\n",
       "      <th></th>\n",
       "      <th></th>\n",
       "      <th></th>\n",
       "      <th></th>\n",
       "      <th></th>\n",
       "      <th></th>\n",
       "      <th></th>\n",
       "      <th></th>\n",
       "    </tr>\n",
       "  </thead>\n",
       "  <tbody>\n",
       "    <tr>\n",
       "      <th>2001-08-01</th>\n",
       "      <td>0.014498</td>\n",
       "      <td>0.043098</td>\n",
       "      <td>0.049078</td>\n",
       "      <td>0.022476</td>\n",
       "      <td>0.016116</td>\n",
       "      <td>0.009080</td>\n",
       "      <td>0.059274</td>\n",
       "      <td>0.026950</td>\n",
       "      <td>0.058859</td>\n",
       "      <td>0.007163</td>\n",
       "      <td>...</td>\n",
       "      <td>0.111115</td>\n",
       "      <td>0.079302</td>\n",
       "      <td>0.040610</td>\n",
       "      <td>0.076827</td>\n",
       "      <td>0.022444</td>\n",
       "      <td>0.016013</td>\n",
       "      <td>0.037409</td>\n",
       "      <td>0.068278</td>\n",
       "      <td>0.086613</td>\n",
       "      <td>0.029647</td>\n",
       "    </tr>\n",
       "    <tr>\n",
       "      <th>2001-08-02</th>\n",
       "      <td>0.013100</td>\n",
       "      <td>0.037664</td>\n",
       "      <td>0.054465</td>\n",
       "      <td>0.023743</td>\n",
       "      <td>0.016179</td>\n",
       "      <td>0.011697</td>\n",
       "      <td>0.062268</td>\n",
       "      <td>0.029804</td>\n",
       "      <td>0.061366</td>\n",
       "      <td>0.009088</td>\n",
       "      <td>...</td>\n",
       "      <td>0.107462</td>\n",
       "      <td>0.078904</td>\n",
       "      <td>0.039544</td>\n",
       "      <td>0.077981</td>\n",
       "      <td>0.022966</td>\n",
       "      <td>0.015722</td>\n",
       "      <td>0.031987</td>\n",
       "      <td>0.064352</td>\n",
       "      <td>0.087388</td>\n",
       "      <td>0.032019</td>\n",
       "    </tr>\n",
       "    <tr>\n",
       "      <th>2001-08-03</th>\n",
       "      <td>0.013631</td>\n",
       "      <td>0.043425</td>\n",
       "      <td>0.056500</td>\n",
       "      <td>0.025191</td>\n",
       "      <td>0.016052</td>\n",
       "      <td>0.012159</td>\n",
       "      <td>0.065860</td>\n",
       "      <td>0.029704</td>\n",
       "      <td>0.061008</td>\n",
       "      <td>0.011707</td>\n",
       "      <td>...</td>\n",
       "      <td>0.107180</td>\n",
       "      <td>0.080177</td>\n",
       "      <td>0.043181</td>\n",
       "      <td>0.079567</td>\n",
       "      <td>0.022419</td>\n",
       "      <td>0.015562</td>\n",
       "      <td>0.025844</td>\n",
       "      <td>0.064062</td>\n",
       "      <td>0.087195</td>\n",
       "      <td>0.028553</td>\n",
       "    </tr>\n",
       "    <tr>\n",
       "      <th>2001-08-06</th>\n",
       "      <td>0.012252</td>\n",
       "      <td>0.045599</td>\n",
       "      <td>0.054585</td>\n",
       "      <td>0.027967</td>\n",
       "      <td>0.015926</td>\n",
       "      <td>0.012774</td>\n",
       "      <td>0.056879</td>\n",
       "      <td>0.031080</td>\n",
       "      <td>0.059456</td>\n",
       "      <td>0.012092</td>\n",
       "      <td>...</td>\n",
       "      <td>0.107075</td>\n",
       "      <td>0.080934</td>\n",
       "      <td>0.045796</td>\n",
       "      <td>0.079472</td>\n",
       "      <td>0.023888</td>\n",
       "      <td>0.015072</td>\n",
       "      <td>0.028374</td>\n",
       "      <td>0.063856</td>\n",
       "      <td>0.086290</td>\n",
       "      <td>0.029485</td>\n",
       "    </tr>\n",
       "    <tr>\n",
       "      <th>2001-08-07</th>\n",
       "      <td>0.011701</td>\n",
       "      <td>0.043098</td>\n",
       "      <td>0.052071</td>\n",
       "      <td>0.024890</td>\n",
       "      <td>0.012960</td>\n",
       "      <td>0.012928</td>\n",
       "      <td>0.062986</td>\n",
       "      <td>0.032057</td>\n",
       "      <td>0.060172</td>\n",
       "      <td>0.012785</td>\n",
       "      <td>...</td>\n",
       "      <td>0.107988</td>\n",
       "      <td>0.078984</td>\n",
       "      <td>0.047651</td>\n",
       "      <td>0.077644</td>\n",
       "      <td>0.023016</td>\n",
       "      <td>0.014686</td>\n",
       "      <td>0.024399</td>\n",
       "      <td>0.066854</td>\n",
       "      <td>0.079382</td>\n",
       "      <td>0.029485</td>\n",
       "    </tr>\n",
       "  </tbody>\n",
       "</table>\n",
       "<p>5 rows × 200 columns</p>\n",
       "</div>"
      ],
      "text/plain": [
       "            adjusted_close_HP  adjusted_close_RL  high_ANSS  \\\n",
       "timestamp                                                     \n",
       "2001-08-01           0.014498           0.043098   0.049078   \n",
       "2001-08-02           0.013100           0.037664   0.054465   \n",
       "2001-08-03           0.013631           0.043425   0.056500   \n",
       "2001-08-06           0.012252           0.045599   0.054585   \n",
       "2001-08-07           0.011701           0.043098   0.052071   \n",
       "\n",
       "            adjusted_close_ROK  adjusted_close_SJM  close_FRT  open_ANSS  \\\n",
       "timestamp                                                                  \n",
       "2001-08-01            0.022476            0.016116   0.009080   0.059274   \n",
       "2001-08-02            0.023743            0.016179   0.011697   0.062268   \n",
       "2001-08-03            0.025191            0.016052   0.012159   0.065860   \n",
       "2001-08-06            0.027967            0.015926   0.012774   0.056879   \n",
       "2001-08-07            0.024890            0.012960   0.012928   0.062986   \n",
       "\n",
       "            adjusted_close_ROP  close_ANSS  open_FRT         ...          \\\n",
       "timestamp                                                    ...           \n",
       "2001-08-01            0.026950    0.058859  0.007163         ...           \n",
       "2001-08-02            0.029804    0.061366  0.009088         ...           \n",
       "2001-08-03            0.029704    0.061008  0.011707         ...           \n",
       "2001-08-06            0.031080    0.059456  0.012092         ...           \n",
       "2001-08-07            0.032057    0.060172  0.012785         ...           \n",
       "\n",
       "            adjusted_close_UTX  adjusted_close_EMN  adjusted_close_ETN  \\\n",
       "timestamp                                                                \n",
       "2001-08-01            0.111115            0.079302            0.040610   \n",
       "2001-08-02            0.107462            0.078904            0.039544   \n",
       "2001-08-03            0.107180            0.080177            0.043181   \n",
       "2001-08-06            0.107075            0.080934            0.045796   \n",
       "2001-08-07            0.107988            0.078984            0.047651   \n",
       "\n",
       "            adjusted_close_TROW  adjusted_close_AME  adjusted_close_CVX  \\\n",
       "timestamp                                                                 \n",
       "2001-08-01             0.076827            0.022444            0.016013   \n",
       "2001-08-02             0.077981            0.022966            0.015722   \n",
       "2001-08-03             0.079567            0.022419            0.015562   \n",
       "2001-08-06             0.079472            0.023888            0.015072   \n",
       "2001-08-07             0.077644            0.023016            0.014686   \n",
       "\n",
       "            adjusted_close_PVH  adjusted_close_CERN  adjusted_close_EMR  \\\n",
       "timestamp                                                                 \n",
       "2001-08-01            0.037409             0.068278            0.086613   \n",
       "2001-08-02            0.031987             0.064352            0.087388   \n",
       "2001-08-03            0.025844             0.064062            0.087195   \n",
       "2001-08-06            0.028374             0.063856            0.086290   \n",
       "2001-08-07            0.024399             0.066854            0.079382   \n",
       "\n",
       "            adjusted_close_BWA  \n",
       "timestamp                       \n",
       "2001-08-01            0.029647  \n",
       "2001-08-02            0.032019  \n",
       "2001-08-03            0.028553  \n",
       "2001-08-06            0.029485  \n",
       "2001-08-07            0.029485  \n",
       "\n",
       "[5 rows x 200 columns]"
      ]
     },
     "execution_count": 10,
     "metadata": {},
     "output_type": "execute_result"
    }
   ],
   "source": [
    "from sklearn.preprocessing import MinMaxScaler\n",
    "min_max_scaler = MinMaxScaler()\n",
    "features_train = pd.DataFrame(min_max_scaler.fit_transform(features_train), \n",
    "                             columns=features_train.columns, \n",
    "                             index=features_train.index)\n",
    "features_train.head()"
   ]
  },
  {
   "cell_type": "code",
   "execution_count": 11,
   "metadata": {
    "ExecuteTime": {
     "end_time": "2017-12-30T00:26:28.486983Z",
     "start_time": "2017-12-30T00:26:28.462889Z"
    },
    "hidden": true
   },
   "outputs": [
    {
     "data": {
      "text/html": [
       "<div>\n",
       "<style scoped>\n",
       "    .dataframe tbody tr th:only-of-type {\n",
       "        vertical-align: middle;\n",
       "    }\n",
       "\n",
       "    .dataframe tbody tr th {\n",
       "        vertical-align: top;\n",
       "    }\n",
       "\n",
       "    .dataframe thead th {\n",
       "        text-align: right;\n",
       "    }\n",
       "</style>\n",
       "<table border=\"1\" class=\"dataframe\">\n",
       "  <thead>\n",
       "    <tr style=\"text-align: right;\">\n",
       "      <th></th>\n",
       "      <th>adjusted_close_HP</th>\n",
       "      <th>adjusted_close_RL</th>\n",
       "      <th>high_ANSS</th>\n",
       "      <th>adjusted_close_ROK</th>\n",
       "      <th>adjusted_close_SJM</th>\n",
       "      <th>close_FRT</th>\n",
       "      <th>open_ANSS</th>\n",
       "      <th>adjusted_close_ROP</th>\n",
       "      <th>close_ANSS</th>\n",
       "      <th>open_FRT</th>\n",
       "      <th>...</th>\n",
       "      <th>adjusted_close_UTX</th>\n",
       "      <th>adjusted_close_EMN</th>\n",
       "      <th>adjusted_close_ETN</th>\n",
       "      <th>adjusted_close_TROW</th>\n",
       "      <th>adjusted_close_AME</th>\n",
       "      <th>adjusted_close_CVX</th>\n",
       "      <th>adjusted_close_PVH</th>\n",
       "      <th>adjusted_close_CERN</th>\n",
       "      <th>adjusted_close_EMR</th>\n",
       "      <th>adjusted_close_BWA</th>\n",
       "    </tr>\n",
       "    <tr>\n",
       "      <th>timestamp</th>\n",
       "      <th></th>\n",
       "      <th></th>\n",
       "      <th></th>\n",
       "      <th></th>\n",
       "      <th></th>\n",
       "      <th></th>\n",
       "      <th></th>\n",
       "      <th></th>\n",
       "      <th></th>\n",
       "      <th></th>\n",
       "      <th></th>\n",
       "      <th></th>\n",
       "      <th></th>\n",
       "      <th></th>\n",
       "      <th></th>\n",
       "      <th></th>\n",
       "      <th></th>\n",
       "      <th></th>\n",
       "      <th></th>\n",
       "      <th></th>\n",
       "      <th></th>\n",
       "    </tr>\n",
       "  </thead>\n",
       "  <tbody>\n",
       "    <tr>\n",
       "      <th>2016-01-04</th>\n",
       "      <td>0.454765</td>\n",
       "      <td>0.571521</td>\n",
       "      <td>0.949449</td>\n",
       "      <td>0.805314</td>\n",
       "      <td>0.985937</td>\n",
       "      <td>0.967911</td>\n",
       "      <td>0.956053</td>\n",
       "      <td>0.972377</td>\n",
       "      <td>0.937082</td>\n",
       "      <td>0.983595</td>\n",
       "      <td>...</td>\n",
       "      <td>0.763264</td>\n",
       "      <td>0.754947</td>\n",
       "      <td>0.640977</td>\n",
       "      <td>0.845401</td>\n",
       "      <td>0.931505</td>\n",
       "      <td>0.678827</td>\n",
       "      <td>0.508053</td>\n",
       "      <td>0.796675</td>\n",
       "      <td>0.646401</td>\n",
       "      <td>0.628138</td>\n",
       "    </tr>\n",
       "    <tr>\n",
       "      <th>2016-01-05</th>\n",
       "      <td>0.460667</td>\n",
       "      <td>0.571996</td>\n",
       "      <td>0.918961</td>\n",
       "      <td>0.795969</td>\n",
       "      <td>0.977055</td>\n",
       "      <td>0.958369</td>\n",
       "      <td>0.929829</td>\n",
       "      <td>0.954401</td>\n",
       "      <td>0.908429</td>\n",
       "      <td>0.961491</td>\n",
       "      <td>...</td>\n",
       "      <td>0.758528</td>\n",
       "      <td>0.743864</td>\n",
       "      <td>0.643712</td>\n",
       "      <td>0.828105</td>\n",
       "      <td>0.914195</td>\n",
       "      <td>0.669153</td>\n",
       "      <td>0.506815</td>\n",
       "      <td>0.769117</td>\n",
       "      <td>0.636094</td>\n",
       "      <td>0.612413</td>\n",
       "    </tr>\n",
       "    <tr>\n",
       "      <th>2016-01-06</th>\n",
       "      <td>0.454859</td>\n",
       "      <td>0.567960</td>\n",
       "      <td>0.910582</td>\n",
       "      <td>0.788168</td>\n",
       "      <td>0.985566</td>\n",
       "      <td>0.971297</td>\n",
       "      <td>0.914741</td>\n",
       "      <td>0.960156</td>\n",
       "      <td>0.900310</td>\n",
       "      <td>0.961260</td>\n",
       "      <td>...</td>\n",
       "      <td>0.759949</td>\n",
       "      <td>0.749909</td>\n",
       "      <td>0.638088</td>\n",
       "      <td>0.831964</td>\n",
       "      <td>0.909224</td>\n",
       "      <td>0.675777</td>\n",
       "      <td>0.514627</td>\n",
       "      <td>0.768021</td>\n",
       "      <td>0.630065</td>\n",
       "      <td>0.601501</td>\n",
       "    </tr>\n",
       "    <tr>\n",
       "      <th>2016-01-07</th>\n",
       "      <td>0.426005</td>\n",
       "      <td>0.551462</td>\n",
       "      <td>0.888796</td>\n",
       "      <td>0.765106</td>\n",
       "      <td>0.977240</td>\n",
       "      <td>0.978222</td>\n",
       "      <td>0.894743</td>\n",
       "      <td>0.938836</td>\n",
       "      <td>0.886819</td>\n",
       "      <td>0.969809</td>\n",
       "      <td>...</td>\n",
       "      <td>0.735321</td>\n",
       "      <td>0.733538</td>\n",
       "      <td>0.623948</td>\n",
       "      <td>0.810944</td>\n",
       "      <td>0.887310</td>\n",
       "      <td>0.644923</td>\n",
       "      <td>0.501401</td>\n",
       "      <td>0.761714</td>\n",
       "      <td>0.619563</td>\n",
       "      <td>0.579677</td>\n",
       "    </tr>\n",
       "    <tr>\n",
       "      <th>2016-01-08</th>\n",
       "      <td>0.407550</td>\n",
       "      <td>0.530454</td>\n",
       "      <td>0.877783</td>\n",
       "      <td>0.726613</td>\n",
       "      <td>0.957904</td>\n",
       "      <td>0.959677</td>\n",
       "      <td>0.879296</td>\n",
       "      <td>0.908753</td>\n",
       "      <td>0.874164</td>\n",
       "      <td>0.962415</td>\n",
       "      <td>...</td>\n",
       "      <td>0.723766</td>\n",
       "      <td>0.720061</td>\n",
       "      <td>0.605855</td>\n",
       "      <td>0.786465</td>\n",
       "      <td>0.865029</td>\n",
       "      <td>0.618340</td>\n",
       "      <td>0.490959</td>\n",
       "      <td>0.762399</td>\n",
       "      <td>0.583781</td>\n",
       "      <td>0.539560</td>\n",
       "    </tr>\n",
       "  </tbody>\n",
       "</table>\n",
       "<p>5 rows × 200 columns</p>\n",
       "</div>"
      ],
      "text/plain": [
       "            adjusted_close_HP  adjusted_close_RL  high_ANSS  \\\n",
       "timestamp                                                     \n",
       "2016-01-04           0.454765           0.571521   0.949449   \n",
       "2016-01-05           0.460667           0.571996   0.918961   \n",
       "2016-01-06           0.454859           0.567960   0.910582   \n",
       "2016-01-07           0.426005           0.551462   0.888796   \n",
       "2016-01-08           0.407550           0.530454   0.877783   \n",
       "\n",
       "            adjusted_close_ROK  adjusted_close_SJM  close_FRT  open_ANSS  \\\n",
       "timestamp                                                                  \n",
       "2016-01-04            0.805314            0.985937   0.967911   0.956053   \n",
       "2016-01-05            0.795969            0.977055   0.958369   0.929829   \n",
       "2016-01-06            0.788168            0.985566   0.971297   0.914741   \n",
       "2016-01-07            0.765106            0.977240   0.978222   0.894743   \n",
       "2016-01-08            0.726613            0.957904   0.959677   0.879296   \n",
       "\n",
       "            adjusted_close_ROP  close_ANSS  open_FRT         ...          \\\n",
       "timestamp                                                    ...           \n",
       "2016-01-04            0.972377    0.937082  0.983595         ...           \n",
       "2016-01-05            0.954401    0.908429  0.961491         ...           \n",
       "2016-01-06            0.960156    0.900310  0.961260         ...           \n",
       "2016-01-07            0.938836    0.886819  0.969809         ...           \n",
       "2016-01-08            0.908753    0.874164  0.962415         ...           \n",
       "\n",
       "            adjusted_close_UTX  adjusted_close_EMN  adjusted_close_ETN  \\\n",
       "timestamp                                                                \n",
       "2016-01-04            0.763264            0.754947            0.640977   \n",
       "2016-01-05            0.758528            0.743864            0.643712   \n",
       "2016-01-06            0.759949            0.749909            0.638088   \n",
       "2016-01-07            0.735321            0.733538            0.623948   \n",
       "2016-01-08            0.723766            0.720061            0.605855   \n",
       "\n",
       "            adjusted_close_TROW  adjusted_close_AME  adjusted_close_CVX  \\\n",
       "timestamp                                                                 \n",
       "2016-01-04             0.845401            0.931505            0.678827   \n",
       "2016-01-05             0.828105            0.914195            0.669153   \n",
       "2016-01-06             0.831964            0.909224            0.675777   \n",
       "2016-01-07             0.810944            0.887310            0.644923   \n",
       "2016-01-08             0.786465            0.865029            0.618340   \n",
       "\n",
       "            adjusted_close_PVH  adjusted_close_CERN  adjusted_close_EMR  \\\n",
       "timestamp                                                                 \n",
       "2016-01-04            0.508053             0.796675            0.646401   \n",
       "2016-01-05            0.506815             0.769117            0.636094   \n",
       "2016-01-06            0.514627             0.768021            0.630065   \n",
       "2016-01-07            0.501401             0.761714            0.619563   \n",
       "2016-01-08            0.490959             0.762399            0.583781   \n",
       "\n",
       "            adjusted_close_BWA  \n",
       "timestamp                       \n",
       "2016-01-04            0.628138  \n",
       "2016-01-05            0.612413  \n",
       "2016-01-06            0.601501  \n",
       "2016-01-07            0.579677  \n",
       "2016-01-08            0.539560  \n",
       "\n",
       "[5 rows x 200 columns]"
      ]
     },
     "execution_count": 11,
     "metadata": {},
     "output_type": "execute_result"
    }
   ],
   "source": [
    "features_test = pd.DataFrame(min_max_scaler.transform(features_test), \n",
    "                             columns=features_test.columns, \n",
    "                             index=features_test.index)\n",
    "features_test.head()"
   ]
  },
  {
   "cell_type": "markdown",
   "metadata": {
    "hidden": true
   },
   "source": [
    "Sequence generation"
   ]
  },
  {
   "cell_type": "code",
   "execution_count": 12,
   "metadata": {
    "ExecuteTime": {
     "end_time": "2017-12-30T00:26:28.887156Z",
     "start_time": "2017-12-30T00:26:28.860100Z"
    },
    "hidden": true
   },
   "outputs": [
    {
     "data": {
      "text/plain": [
       "(3622, 5, 200)"
      ]
     },
     "execution_count": 12,
     "metadata": {},
     "output_type": "execute_result"
    }
   ],
   "source": [
    "sequence_length = 5\n",
    "def gen_sequence(df, seq_length):\n",
    "    data_array = df.values\n",
    "    num_elements = data_array.shape[0]\n",
    "    for start, stop in zip(range(0, num_elements-seq_length), range(seq_length, num_elements)):\n",
    "        yield data_array[start:stop, :]\n",
    "\n",
    "seq_array = np.array(list(gen_sequence(features_train,sequence_length)))\n",
    "seq_array.shape"
   ]
  },
  {
   "cell_type": "code",
   "execution_count": 13,
   "metadata": {
    "ExecuteTime": {
     "end_time": "2017-12-30T00:26:29.309895Z",
     "start_time": "2017-12-30T00:26:29.302878Z"
    },
    "hidden": true
   },
   "outputs": [
    {
     "data": {
      "text/plain": [
       "(3622,)"
      ]
     },
     "execution_count": 13,
     "metadata": {},
     "output_type": "execute_result"
    }
   ],
   "source": [
    "def gen_labels(df, seq_length):\n",
    "    data_array = df.values\n",
    "    num_elements = data_array.shape[0]\n",
    "    return data_array[seq_length:num_elements]\n",
    "\n",
    "label_array = np.array(list(gen_labels(target_train,sequence_length)))\n",
    "label_array.shape"
   ]
  },
  {
   "cell_type": "code",
   "execution_count": 14,
   "metadata": {
    "ExecuteTime": {
     "end_time": "2017-12-30T00:26:29.701634Z",
     "start_time": "2017-12-30T00:26:29.693579Z"
    },
    "hidden": true
   },
   "outputs": [
    {
     "data": {
      "text/plain": [
       "(494, 5, 200)"
      ]
     },
     "execution_count": 14,
     "metadata": {},
     "output_type": "execute_result"
    }
   ],
   "source": [
    "seq_array_test = np.array(list(gen_sequence(features_test,sequence_length)))\n",
    "seq_array_test.shape"
   ]
  },
  {
   "cell_type": "code",
   "execution_count": 15,
   "metadata": {
    "ExecuteTime": {
     "end_time": "2017-12-30T00:26:30.111915Z",
     "start_time": "2017-12-30T00:26:30.105899Z"
    },
    "hidden": true
   },
   "outputs": [
    {
     "data": {
      "text/plain": [
       "(494,)"
      ]
     },
     "execution_count": 15,
     "metadata": {},
     "output_type": "execute_result"
    }
   ],
   "source": [
    "label_array_test = np.array(list(gen_labels(target_test,sequence_length)))\n",
    "label_array_test.shape"
   ]
  },
  {
   "cell_type": "markdown",
   "metadata": {
    "heading_collapsed": true
   },
   "source": [
    "## Benchmark model"
   ]
  },
  {
   "cell_type": "markdown",
   "metadata": {
    "hidden": true
   },
   "source": [
    "Benchmark linear regression model"
   ]
  },
  {
   "cell_type": "code",
   "execution_count": 16,
   "metadata": {
    "ExecuteTime": {
     "end_time": "2017-12-30T00:26:30.671308Z",
     "start_time": "2017-12-30T00:26:30.542925Z"
    },
    "hidden": true
   },
   "outputs": [
    {
     "data": {
      "text/plain": [
       "LinearRegression(copy_X=True, fit_intercept=True, n_jobs=1, normalize=False)"
      ]
     },
     "execution_count": 16,
     "metadata": {},
     "output_type": "execute_result"
    }
   ],
   "source": [
    "from sklearn.linear_model import LinearRegression\n",
    "linearregression = LinearRegression()\n",
    "linearregression.fit(np.array([seq_array[i][sequence_length-1] for i in range(seq_array.shape[0])]),label_array)"
   ]
  },
  {
   "cell_type": "code",
   "execution_count": 17,
   "metadata": {
    "ExecuteTime": {
     "end_time": "2017-12-30T00:26:31.103159Z",
     "start_time": "2017-12-30T00:26:31.097146Z"
    },
    "hidden": true
   },
   "outputs": [],
   "source": [
    "prediction = linearregression.predict(np.array([seq_array_test[i][sequence_length-1] for i in range(seq_array_test.shape[0])]))"
   ]
  },
  {
   "cell_type": "code",
   "execution_count": 21,
   "metadata": {
    "ExecuteTime": {
     "end_time": "2017-12-29T10:41:49.057878Z",
     "start_time": "2017-12-29T10:41:49.033805Z"
    },
    "deletable": false,
    "editable": false,
    "hidden": true,
    "run_control": {
     "frozen": true
    }
   },
   "outputs": [],
   "source": [
    "pd.DataFrame([prediction,label_array_test]).T\\\n",
    ".rename({0:'prediction',1:'truth'},axis=1)\\\n",
    ".set_index(target.index[target.index>='2016-01-09'])\\\n",
    ".to_csv('LR_prediction.csv')"
   ]
  },
  {
   "cell_type": "markdown",
   "metadata": {
    "hidden": true
   },
   "source": [
    "Model performance"
   ]
  },
  {
   "cell_type": "code",
   "execution_count": 18,
   "metadata": {
    "ExecuteTime": {
     "end_time": "2017-12-30T00:26:31.679930Z",
     "start_time": "2017-12-30T00:26:31.553564Z"
    },
    "hidden": true
   },
   "outputs": [
    {
     "data": {
      "image/png": "[encoded data removed]",
      "text/plain": [
       "<matplotlib.figure.Figure at 0x1c264c41ba8>"
      ]
     },
     "metadata": {},
     "output_type": "display_data"
    }
   ],
   "source": [
    "plt.plot(prediction, label='prediction')\n",
    "plt.plot(label_array_test, label='truth')\n",
    "plt.legend()\n",
    "plt.show()"
   ]
  },
  {
   "cell_type": "code",
   "execution_count": 19,
   "metadata": {
    "ExecuteTime": {
     "end_time": "2017-12-30T00:26:32.177056Z",
     "start_time": "2017-12-30T00:26:32.170037Z"
    },
    "hidden": true
   },
   "outputs": [
    {
     "data": {
      "text/plain": [
       "(-26177.499890017465, 2583.3371411153962)"
      ]
     },
     "execution_count": 19,
     "metadata": {},
     "output_type": "execute_result"
    }
   ],
   "source": [
    "from sklearn.metrics import r2_score, mean_squared_error\n",
    "r2_score(label_array_test,prediction),np.sqrt(mean_squared_error(label_array_test,prediction))"
   ]
  },
  {
   "cell_type": "markdown",
   "metadata": {},
   "source": [
    "## Neural Network"
   ]
  },
  {
   "cell_type": "markdown",
   "metadata": {},
   "source": [
    "LSTM model"
   ]
  },
  {
   "cell_type": "code",
   "execution_count": 20,
   "metadata": {
    "ExecuteTime": {
     "end_time": "2017-12-29T14:06:17.246037Z",
     "start_time": "2017-12-29T14:06:14.379581Z"
    }
   },
   "outputs": [
    {
     "name": "stderr",
     "output_type": "stream",
     "text": [
      "Using TensorFlow backend.\n"
     ]
    }
   ],
   "source": [
    "from keras.models import Sequential\n",
    "from keras.layers import Dense, Dropout, LSTM\n",
    "\n",
    "# build the network\n",
    "nb_features = seq_array.shape[2]\n",
    "\n",
    "model = Sequential()\n",
    "\n",
    "model.add(LSTM(\n",
    "         input_shape=(sequence_length, nb_features),\n",
    "         units=100,\n",
    "         return_sequences=True))\n",
    "model.add(Dropout(0.2))\n",
    "\n",
    "model.add(LSTM(\n",
    "          units=50,\n",
    "          return_sequences=False))\n",
    "model.add(Dropout(0.2))\n",
    "\n",
    "model.add(Dense(1))\n",
    "model.compile(loss='mae', optimizer='nadam', metrics=['mean_squared_error'])"
   ]
  },
  {
   "cell_type": "code",
   "execution_count": 21,
   "metadata": {
    "ExecuteTime": {
     "end_time": "2017-12-29T14:06:17.704383Z",
     "start_time": "2017-12-29T14:06:17.698368Z"
    }
   },
   "outputs": [
    {
     "name": "stdout",
     "output_type": "stream",
     "text": [
      "_________________________________________________________________\n",
      "Layer (type)                 Output Shape              Param #   \n",
      "=================================================================\n",
      "lstm_1 (LSTM)                (None, 5, 100)            120400    \n",
      "_________________________________________________________________\n",
      "dropout_1 (Dropout)          (None, 5, 100)            0         \n",
      "_________________________________________________________________\n",
      "lstm_2 (LSTM)                (None, 50)                30200     \n",
      "_________________________________________________________________\n",
      "dropout_2 (Dropout)          (None, 50)                0         \n",
      "_________________________________________________________________\n",
      "dense_1 (Dense)              (None, 1)                 51        \n",
      "=================================================================\n",
      "Total params: 150,651\n",
      "Trainable params: 150,651\n",
      "Non-trainable params: 0\n",
      "_________________________________________________________________\n"
     ]
    }
   ],
   "source": [
    "model.summary()"
   ]
  },
  {
   "cell_type": "code",
   "execution_count": 22,
   "metadata": {
    "ExecuteTime": {
     "end_time": "2017-12-29T14:09:58.269724Z",
     "start_time": "2017-12-29T14:06:18.176203Z"
    }
   },
   "outputs": [],
   "source": [
    "history = model.fit(seq_array, label_array, epochs=1000, batch_size=500, validation_split=0.1, verbose=0)"
   ]
  },
  {
   "cell_type": "markdown",
   "metadata": {},
   "source": [
    "Learning Curve"
   ]
  },
  {
   "cell_type": "code",
   "execution_count": 23,
   "metadata": {
    "ExecuteTime": {
     "end_time": "2017-12-29T14:09:58.823584Z",
     "start_time": "2017-12-29T14:09:58.707594Z"
    }
   },
   "outputs": [
    {
     "data": {
      "image/png": "[encoded data removed]",
      "text/plain": [
       "<matplotlib.figure.Figure at 0x159bb8c60f0>"
      ]
     },
     "metadata": {},
     "output_type": "display_data"
    }
   ],
   "source": [
    "plt.plot(history.history['loss'], label='train')\n",
    "plt.plot(history.history['val_loss'], label='valid')\n",
    "plt.legend()\n",
    "plt.show()"
   ]
  },
  {
   "cell_type": "code",
   "execution_count": 27,
   "metadata": {
    "ExecuteTime": {
     "end_time": "2017-12-29T14:23:52.398224Z",
     "start_time": "2017-12-29T14:23:52.351467Z"
    },
    "deletable": false,
    "editable": false,
    "run_control": {
     "frozen": true
    }
   },
   "outputs": [],
   "source": [
    "pd.DataFrame([history.history['loss'],history.history['val_loss']]).T\\\n",
    ".rename({0:'train',1:'test'},axis=1)\\\n",
    ".to_csv('history.csv')"
   ]
  },
  {
   "cell_type": "markdown",
   "metadata": {},
   "source": [
    "Model performance"
   ]
  },
  {
   "cell_type": "code",
   "execution_count": 24,
   "metadata": {
    "ExecuteTime": {
     "end_time": "2017-12-29T14:09:59.507549Z",
     "start_time": "2017-12-29T14:09:59.223070Z"
    }
   },
   "outputs": [
    {
     "data": {
      "image/png": "[encoded data removed]",
      "text/plain": [
       "<matplotlib.figure.Figure at 0x159bb8c6128>"
      ]
     },
     "metadata": {},
     "output_type": "display_data"
    }
   ],
   "source": [
    "prediction = model.predict(seq_array_test)\n",
    "plt.plot(prediction, label='prediction')\n",
    "plt.plot(label_array_test, label='truth')\n",
    "plt.legend()\n",
    "plt.show()"
   ]
  },
  {
   "cell_type": "code",
   "execution_count": 26,
   "metadata": {
    "ExecuteTime": {
     "end_time": "2017-12-29T14:23:24.371986Z",
     "start_time": "2017-12-29T14:23:24.346416Z"
    },
    "deletable": false,
    "editable": false,
    "run_control": {
     "frozen": true
    }
   },
   "outputs": [],
   "source": [
    "pd.DataFrame([np.squeeze(prediction),label_array_test]).T\\\n",
    ".rename({0:'prediction',1:'truth'},axis=1)\\\n",
    ".set_index(target.index[target.index>='2016-01-09'])\\\n",
    ".to_csv('LSTM_prediction.csv')"
   ]
  },
  {
   "cell_type": "code",
   "execution_count": 25,
   "metadata": {
    "ExecuteTime": {
     "end_time": "2017-12-29T14:09:59.954798Z",
     "start_time": "2017-12-29T14:09:59.939179Z"
    }
   },
   "outputs": [
    {
     "data": {
      "text/plain": [
       "(0.54176345910557089, 10.808204882011889)"
      ]
     },
     "execution_count": 25,
     "metadata": {},
     "output_type": "execute_result"
    }
   ],
   "source": [
    "r2_score(label_array_test,prediction),np.sqrt(mean_squared_error(label_array_test,prediction))"
   ]
  }
 ],
 "metadata": {
  "hide_input": false,
  "kernelspec": {
   "display_name": "Python 3",
   "language": "python",
   "name": "python3"
  },
  "language_info": {
   "codemirror_mode": {
    "name": "ipython",
    "version": 3
   },
   "file_extension": ".py",
   "mimetype": "text/x-python",
   "name": "python",
   "nbconvert_exporter": "python",
   "pygments_lexer": "ipython3",
   "version": "3.6.3"
  },
  "toc": {
   "nav_menu": {},
   "number_sections": true,
   "sideBar": true,
   "skip_h1_title": false,
   "toc_cell": false,
   "toc_position": {},
   "toc_section_display": "block",
   "toc_window_display": false
  },
  "varInspector": {
   "cols": {
    "lenName": 16,
    "lenType": 16,
    "lenVar": 40
   },
   "kernels_config": {
    "python": {
     "delete_cmd_postfix": "",
     "delete_cmd_prefix": "del ",
     "library": "var_list.py",
     "varRefreshCmd": "print(var_dic_list())"
    },
    "r": {
     "delete_cmd_postfix": ") ",
     "delete_cmd_prefix": "rm(",
     "library": "var_list.r",
     "varRefreshCmd": "cat(var_dic_list()) "
    }
   },
   "position": {
    "height": "261px",
    "left": "1431px",
    "right": "20px",
    "top": "120px",
    "width": "356px"
   },
   "types_to_exclude": [
    "module",
    "function",
    "builtin_function_or_method",
    "instance",
    "_Feature"
   ],
   "window_display": false
  }
 },
 "nbformat": 4,
 "nbformat_minor": 2
}
